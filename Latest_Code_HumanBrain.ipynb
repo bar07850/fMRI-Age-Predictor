{
  "cells": [
    {
      "cell_type": "code",
      "execution_count": 1,
      "metadata": {
        "colab": {
          "base_uri": "https://localhost:8080/"
        },
        "id": "Afhy0f8_r34N",
        "outputId": "c1b26e30-3dab-4d51-86b1-0db21bf7a6ee"
      },
      "outputs": [
        {
          "output_type": "stream",
          "name": "stdout",
          "text": [
            "Mounted at /content/drive\n"
          ]
        }
      ],
      "source": [
        "from google.colab import drive\n",
        "drive.mount('/content/drive')"
      ]
    },
    {
      "cell_type": "code",
      "execution_count": 13,
      "metadata": {
        "id": "xdUTMJng-SYu"
      },
      "outputs": [],
      "source": [
        "import os\n",
        "import pandas as pd\n",
        "import numpy as np\n",
        "from tqdm import tqdm\n",
        "from sklearn.ensemble import RandomForestRegressor\n",
        "from sklearn.model_selection import cross_val_score, GridSearchCV\n",
        "from sklearn.metrics import mean_squared_error, mean_absolute_error, r2_score  # Ensure all metrics are imported\n",
        "from sklearn.feature_selection import VarianceThreshold\n",
        "from sklearn.decomposition import PCA\n",
        "from sklearn.preprocessing import StandardScaler\n",
        "from sklearn.linear_model import Ridge\n",
        "from sklearn.impute import SimpleImputer\n",
        "from sklearn.preprocessing import QuantileTransformer\n",
        "from sklearn.utils import resample\n",
        "from xgboost import XGBRegressor\n",
        "import matplotlib.pyplot as plt\n",
        "import seaborn as sns\n",
        "from skimage.transform import resize"
      ]
    },
    {
      "cell_type": "code",
      "execution_count": 3,
      "metadata": {
        "id": "Ufz3-DJH2BCn"
      },
      "outputs": [],
      "source": [
        "# STEP 3: Define Paths\n",
        "data_root = \"/content/drive/MyDrive/Synthetic_Data/widsdatathon2025-university (1)\"\n",
        "train_dir = os.path.join(data_root, \"/content/drive/MyDrive/Synthetic_Data/widsdatathon2025-university (1)/train_tsv/train_tsv\")\n",
        "test_dir = os.path.join(data_root, \"/content/drive/MyDrive/Synthetic_Data/widsdatathon2025-university (1)/test_tsv/test_tsv\")\n",
        "metadata_dir = os.path.join(data_root, \"/content/drive/MyDrive/Synthetic_Data/widsdatathon2025-university (1)/metadata\")\n",
        "metadata_path = os.path.join(metadata_dir, \"/content/drive/MyDrive/Synthetic_Data/widsdatathon2025-university (1)/metadata/training_metadata.csv\")\n",
        "test_metadata_path = os.path.join(metadata_dir, \"/content/drive/MyDrive/Synthetic_Data/widsdatathon2025-university (1)/metadata/test_metadata.csv\")"
      ]
    },
    {
      "cell_type": "code",
      "execution_count": 4,
      "metadata": {
        "id": "SjU9u91l2FSV"
      },
      "outputs": [],
      "source": [
        "# Step 4: Function to Extract Upper Triangular\n",
        "def extract_upper_triangle(file_path):\n",
        "    matrix = pd.read_csv(file_path, sep='\\t', header=None).values\n",
        "    upper_tri_indices = np.triu_indices_from(matrix, k=1)\n",
        "    return matrix[upper_tri_indices]"
      ]
    },
    {
      "cell_type": "code",
      "execution_count": 5,
      "metadata": {
        "colab": {
          "base_uri": "https://localhost:8080/"
        },
        "id": "I2YW8Lk-4an_",
        "outputId": "99c3c35e-4345-40be-cb90-8156de3ac26b"
      },
      "outputs": [
        {
          "output_type": "stream",
          "name": "stdout",
          "text": [
            "🔄 Processing real fMRI training files...\n"
          ]
        },
        {
          "output_type": "stream",
          "name": "stderr",
          "text": [
            "100%|██████████| 1104/1104 [03:00<00:00,  6.13it/s]\n"
          ]
        }
      ],
      "source": [
        "# Step 5: Load Real fMRI Training Data\n",
        "train_vectors = []\n",
        "train_ids = []\n",
        "\n",
        "print(\"🔄 Processing real fMRI training files...\")\n",
        "for filename in tqdm(os.listdir(train_dir)):\n",
        "    if filename.endswith(\".tsv\"):\n",
        "        participant_id = filename.split(\"_\")[0].replace(\"sub-\", \"\")\n",
        "        file_path = os.path.join(train_dir, filename)\n",
        "        vector = extract_upper_triangle(file_path)\n",
        "        train_vectors.append(vector)\n",
        "        train_ids.append(participant_id)\n",
        "\n",
        "X_real = pd.DataFrame(train_vectors)\n",
        "X_real[\"participant_id\"] = train_ids"
      ]
    },
    {
      "cell_type": "code",
      "execution_count": 6,
      "metadata": {
        "colab": {
          "base_uri": "https://localhost:8080/",
          "height": 957
        },
        "id": "rTLWmd4f4d_3",
        "outputId": "150423c9-b417-4b47-af6c-7d2df6ed636d"
      },
      "outputs": [
        {
          "output_type": "stream",
          "name": "stdout",
          "text": [
            "✅ Initial real data shape: (1104, 19914)\n",
            "Initial age distribution in train_df:\n",
            " age\n",
            "5       3\n",
            "6      31\n",
            "7      90\n",
            "8     134\n",
            "9     138\n",
            "10    145\n",
            "11    111\n",
            "12    101\n",
            "13     74\n",
            "14     72\n",
            "15     67\n",
            "16     55\n",
            "17     51\n",
            "18     20\n",
            "19      1\n",
            "20      6\n",
            "21      4\n",
            "22      1\n",
            "Name: count, dtype: int64\n"
          ]
        },
        {
          "output_type": "display_data",
          "data": {
            "text/plain": [
              "<Figure size 1000x600 with 1 Axes>"
            ],
            "image/png": "[encoded data removed]"
          },
          "metadata": {}
        }
      ],
      "source": [
        "# Step 6: Merge Metadata and Initial Subsampling\n",
        "metadata = pd.read_csv(metadata_path)\n",
        "metadata[\"participant_id\"] = metadata[\"participant_id\"].str.upper().str.strip()\n",
        "X_real[\"participant_id\"] = X_real[\"participant_id\"].str.upper().str.strip()\n",
        "train_df = pd.merge(X_real, metadata, on=\"participant_id\")\n",
        "\n",
        "# Round age column to integers to avoid float mismatches\n",
        "train_df[\"age\"] = train_df[\"age\"].round(0).astype(int)\n",
        "\n",
        "print(\"✅ Initial real data shape:\", train_df.shape)\n",
        "print(\"Initial age distribution in train_df:\\n\", train_df['age'].value_counts().sort_index())\n",
        "\n",
        "# Visualize initial age distribution\n",
        "plt.figure(figsize=(10, 6))\n",
        "sns.histplot(train_df['age'], bins=range(5, 23), discrete=True)\n",
        "plt.title(\"Initial Age Distribution in Real Data (train_df)\")\n",
        "plt.xlabel(\"Age\")\n",
        "plt.ylabel(\"Frequency\")\n",
        "plt.grid(True)\n",
        "plt.show()"
      ]
    },
    {
      "cell_type": "code",
      "execution_count": 7,
      "metadata": {
        "colab": {
          "base_uri": "https://localhost:8080/"
        },
        "id": "PmXwxb0U4jJL",
        "outputId": "9a6e554f-ba4d-4be7-9568-af9232a3f149"
      },
      "outputs": [
        {
          "output_type": "stream",
          "name": "stdout",
          "text": [
            "Number of brain features in training data: 19900\n",
            "Warning: 'site_id' not found in train_df. Excluding from meta_cols.\n"
          ]
        },
        {
          "output_type": "stream",
          "name": "stderr",
          "text": [
            "<ipython-input-7-2824e01366a6>:16: DeprecationWarning: DataFrameGroupBy.apply operated on the grouping columns. This behavior is deprecated, and in a future version of pandas the grouping columns will be excluded from the operation. Either pass `include_groups=False` to exclude the groupings or explicitly select the grouping columns after groupby to silence this warning.\n",
            "  subsampled_df = train_df.groupby(\"age\").apply(lambda x: x.sample(n=min(len(x), max_rows_per_age_initial), replace=False)).reset_index(drop=True)\n"
          ]
        },
        {
          "output_type": "stream",
          "name": "stdout",
          "text": [
            "✅ Shape after initial subsampling: (975, 19914)\n",
            "Number of selected brain features after variance thresholding: 19895\n",
            "Early PCA Explained Variance Ratio: 0.567679900033126\n",
            "Number of PCA components: 150\n",
            "✅ Shape after feature reduction: (975, 153)\n"
          ]
        }
      ],
      "source": [
        "# Step 6.5: Aggressive Subsampling and Feature Reduction to Prevent Crashes\n",
        "# Define brain_cols globally to ensure consistency\n",
        "brain_cols = [col for col in train_df.columns if (isinstance(col, int) or (isinstance(col, str) and col.isdigit())) and train_df[col].dtype in [np.float64, np.float32, np.int64]]\n",
        "print(f\"Number of brain features in training data: {len(brain_cols)}\")\n",
        "\n",
        "# Define meta_cols dynamically based on available columns\n",
        "required_meta_cols = ['sex', 'age', 'participant_id']\n",
        "meta_cols = [col for col in required_meta_cols if col in train_df.columns]\n",
        "if 'site_id' in train_df.columns:\n",
        "    meta_cols.append('site_id')\n",
        "else:\n",
        "    print(\"Warning: 'site_id' not found in train_df. Excluding from meta_cols.\")\n",
        "\n",
        "# Subsample aggressively to reduce memory usage\n",
        "max_rows_per_age_initial = 100  # Very low to prevent memory issues\n",
        "subsampled_df = train_df.groupby(\"age\").apply(lambda x: x.sample(n=min(len(x), max_rows_per_age_initial), replace=False)).reset_index(drop=True)\n",
        "print(\"✅ Shape after initial subsampling:\", subsampled_df.shape)\n",
        "\n",
        "# Reduce features with PCA early\n",
        "from sklearn.feature_selection import VarianceThreshold\n",
        "\n",
        "# Feature selection: remove low-variance features\n",
        "selector = VarianceThreshold(threshold=0.01)  # Adjust threshold as needed\n",
        "brain_selected = selector.fit_transform(subsampled_df[brain_cols])\n",
        "selected_cols = np.array(brain_cols)[selector.get_support()]\n",
        "print(f\"Number of selected brain features after variance thresholding: {len(selected_cols)}\")\n",
        "\n",
        "scaler_pre_pca = StandardScaler()  # Scaler for original features\n",
        "brain_scaled = scaler_pre_pca.fit_transform(brain_selected)\n",
        "imputer_pre_pca = SimpleImputer(strategy='mean')  # Imputer for original features\n",
        "brain_imputed = imputer_pre_pca.fit_transform(brain_scaled)\n",
        "\n",
        "# Apply PCA to reduce features (increase n_components to capture more variance)\n",
        "n_components = min(150, brain_imputed.shape[1])  # Increase to 150 for better feature representation\n",
        "pca = PCA(n_components=n_components)\n",
        "brain_pca = pca.fit_transform(brain_imputed)\n",
        "print(\"Early PCA Explained Variance Ratio:\", pca.explained_variance_ratio_.sum())\n",
        "print(f\"Number of PCA components: {brain_pca.shape[1]}\")\n",
        "\n",
        "# Reconstruct DataFrame with reduced features\n",
        "pca_cols = [f\"pca_{i}\" for i in range(brain_pca.shape[1])]\n",
        "reduced_df = pd.DataFrame(brain_pca, columns=pca_cols)\n",
        "reduced_df[meta_cols] = subsampled_df[meta_cols].reset_index(drop=True)\n",
        "print(\"✅ Shape after feature reduction:\", reduced_df.shape)"
      ]
    },
    {
      "cell_type": "code",
      "execution_count": 8,
      "metadata": {
        "id": "cl0150484nST"
      },
      "outputs": [],
      "source": [
        "# Step 8: Use reduced_df directly\n",
        "train_df_combined = reduced_df"
      ]
    },
    {
      "cell_type": "code",
      "execution_count": 9,
      "metadata": {
        "colab": {
          "base_uri": "https://localhost:8080/",
          "height": 1000
        },
        "id": "8tdXbFHs4rvf",
        "outputId": "a47857fe-9a74-4a4a-c640-bdb18bd870a3"
      },
      "outputs": [
        {
          "output_type": "stream",
          "name": "stderr",
          "text": [
            "<ipython-input-9-819d7743a2f0>:19: DeprecationWarning: DataFrameGroupBy.apply operated on the grouping columns. This behavior is deprecated, and in a future version of pandas the grouping columns will be excluded from the operation. Either pass `include_groups=False` to exclude the groupings or explicitly select the grouping columns after groupby to silence this warning.\n",
            "  df_resampled = train_df_combined.groupby(\"age\").apply(lambda x: x.sample(n=weighted_counts[x.name], replace=True)).reset_index(drop=True)\n"
          ]
        },
        {
          "output_type": "stream",
          "name": "stdout",
          "text": [
            "✅ Resampled shape: (2000, 153)\n",
            "Age distribution in df_resampled:\n",
            " age\n",
            "5     100\n",
            "6     100\n",
            "7     100\n",
            "8     100\n",
            "9     100\n",
            "10    100\n",
            "11    100\n",
            "12    100\n",
            "13    100\n",
            "14    100\n",
            "15    100\n",
            "16    100\n",
            "17    100\n",
            "18    100\n",
            "19    150\n",
            "20    150\n",
            "21    150\n",
            "22    150\n",
            "Name: count, dtype: int64\n"
          ]
        },
        {
          "output_type": "display_data",
          "data": {
            "text/plain": [
              "<Figure size 1000x600 with 1 Axes>"
            ],
            "image/png": "[encoded data removed]"
          },
          "metadata": {}
        }
      ],
      "source": [
        "# Step 9: Balance Age Groups Efficiently\n",
        "# Ensure all ages 5 to 21 are represented\n",
        "# Round age column to integers to avoid float mismatches\n",
        "train_df_combined[\"age\"] = train_df_combined[\"age\"].round(0).astype(int)\n",
        "\n",
        "all_ages = set(range(5, 22))\n",
        "present_ages = set(train_df_combined[\"age\"].unique())\n",
        "missing_ages = all_ages - present_ages\n",
        "\n",
        "max_count = 100  # Define max_count for resampling\n",
        "if missing_ages:\n",
        "    print(f\"Warning: Missing ages in real data: {missing_ages}. Predictions will be limited to available ages.\")\n",
        "    # Proceed with available ages\n",
        "    df_resampled = train_df_combined.groupby(\"age\").apply(lambda x: x.sample(n=max_count, replace=True)).reset_index(drop=True)\n",
        "else:\n",
        "    # All ages present, apply weighted resampling to prioritize older ages\n",
        "    age_weights = {age: 1.0 if age < 19 else 1.5 for age in present_ages}  # Increase weight for ages 19-21\n",
        "    weighted_counts = {age: int(max_count * age_weights[age]) for age in present_ages}\n",
        "    df_resampled = train_df_combined.groupby(\"age\").apply(lambda x: x.sample(n=weighted_counts[x.name], replace=True)).reset_index(drop=True)\n",
        "\n",
        "print(\"✅ Resampled shape:\", df_resampled.shape)\n",
        "print(\"Age distribution in df_resampled:\\n\", df_resampled[\"age\"].value_counts().sort_index())\n",
        "\n",
        "# Visualize age distribution\n",
        "plt.figure(figsize=(10, 6))\n",
        "sns.histplot(df_resampled[\"age\"], bins=range(5, 23), discrete=True)\n",
        "plt.title(\"Resampled Age Distribution (df_resampled)\")\n",
        "plt.xlabel(\"Age\")\n",
        "plt.ylabel(\"Frequency\")\n",
        "plt.grid(True)\n",
        "plt.show()"
      ]
    },
    {
      "cell_type": "code",
      "execution_count": 10,
      "metadata": {
        "id": "I68_WXVk4wye"
      },
      "outputs": [],
      "source": [
        "# Step 10: Preprocess with PCA + Reduced Metadata Influence\n",
        "# Brain features are already PCA-reduced, so we just need to scale and impute again if needed\n",
        "brain_cols_pca = [col for col in df_resampled.columns if col.startswith(\"pca_\")]\n",
        "\n",
        "# Use a separate scaler for PCA-transformed features\n",
        "scaler_post_pca = StandardScaler()\n",
        "brain_scaled = scaler_post_pca.fit_transform(df_resampled[brain_cols_pca])\n",
        "imputer_post_pca = SimpleImputer(strategy='mean')\n",
        "brain_imputed = imputer_post_pca.fit_transform(brain_scaled)\n",
        "\n",
        "# Define meta columns (limit influence by excluding less informative ones)\n",
        "meta_cols = ['sex']  # Exclude 'site_id' to reduce noise\n",
        "\n",
        "# Encode metadata\n",
        "meta_encoded = pd.get_dummies(df_resampled[meta_cols])\n",
        "meta_encoded = meta_encoded.reindex(columns=meta_encoded.columns, fill_value=0)\n",
        "\n",
        "# Combine features\n",
        "X = np.concatenate([brain_imputed, meta_encoded.values], axis=1)\n",
        "y = df_resampled[\"age\"]"
      ]
    },
    {
      "cell_type": "code",
      "execution_count": 11,
      "metadata": {
        "id": "HmhmmKQ840tE",
        "colab": {
          "base_uri": "https://localhost:8080/"
        },
        "outputId": "b528853e-6b2b-4179-ae7c-03bf6e859867"
      },
      "outputs": [
        {
          "output_type": "stream",
          "name": "stdout",
          "text": [
            "NaNs in X before training: 0\n"
          ]
        }
      ],
      "source": [
        "# Step 11: Impute Features\n",
        "y_transformed = y  # Use raw ages\n",
        "\n",
        "# No need for additional imputation since brain_imputed is already processed\n",
        "print(\"NaNs in X before training:\", np.isnan(X).sum())"
      ]
    },
    {
      "cell_type": "code",
      "execution_count": null,
      "metadata": {
        "colab": {
          "base_uri": "https://localhost:8080/",
          "height": 587
        },
        "id": "gO9HWFWm44yC",
        "outputId": "73361413-8435-4739-ba24-0721bc7a9fc9"
      },
      "outputs": [
        {
          "output_type": "display_data",
          "data": {
            "text/plain": [
              "<Figure size 1000x600 with 1 Axes>"
            ],
            "image/png": "[encoded data removed]"
          },
          "metadata": {}
        },
        {
          "output_type": "stream",
          "name": "stdout",
          "text": [
            "Best Ridge alpha: 10.0, Cross-validated MSE: 16.328863325243024\n"
          ]
        }
      ],
      "source": [
        "# Step 12: Train Ridge and Tuned XGBoost with Regularization\n",
        "# Tune Ridge alpha using cross-validation\n",
        "alphas = [0.01, 0.1, 1.0, 10.0, 100.0]\n",
        "best_alpha = 1.0\n",
        "best_mse = float('inf')\n",
        "mse_scores = []\n",
        "\n",
        "for alpha in alphas:\n",
        "    ridge = Ridge(alpha=alpha)\n",
        "    scores = cross_val_score(ridge, X, y_transformed, cv=5, scoring=\"neg_mean_squared_error\")\n",
        "    mse = -scores.mean()\n",
        "    mse_scores.append(mse)\n",
        "    if mse < best_mse:\n",
        "        best_mse = mse\n",
        "        best_alpha = alpha\n",
        "\n",
        "# Visualize cross-validation scores for Ridge tuning\n",
        "plt.figure(figsize=(10, 6))\n",
        "plt.plot(alphas, mse_scores, marker='o')\n",
        "plt.xscale('log')\n",
        "plt.title(\"Cross-Validation MSE vs. Ridge Alpha\")\n",
        "plt.xlabel(\"Alpha (log scale)\")\n",
        "plt.ylabel(\"Mean Squared Error\")\n",
        "plt.grid(True)\n",
        "plt.show()\n",
        "\n",
        "print(f\"Best Ridge alpha: {best_alpha}, Cross-validated MSE: {best_mse}\")\n",
        "\n",
        "ridge = Ridge(alpha=best_alpha)\n",
        "ridge.fit(X, y_transformed)\n",
        "\n",
        "# Tune XGBoost with GridSearchCV and add regularization\n",
        "param_grid = {\n",
        "    'n_estimators': [50, 100, 200],\n",
        "    'max_depth': [3, 5, 7],\n",
        "    'learning_rate': [0.01, 0.1, 0.3],\n",
        "    'subsample': [0.7, 1.0],\n",
        "    'colsample_bytree': [0.7, 1.0],\n",
        "    'reg_lambda': [1, 10]\n",
        "}\n",
        "xgb = XGBRegressor(random_state=42)\n",
        "grid_search = GridSearchCV(xgb, param_grid, cv=5, scoring='neg_mean_squared_error', n_jobs=-1)\n",
        "grid_search.fit(X, y_transformed)\n",
        "print(\"Best XGBoost Parameters:\", grid_search.best_params_)\n",
        "xgb = grid_search.best_estimator_\n",
        "\n",
        "# Cross-validation score for XGBoost\n",
        "scores = cross_val_score(xgb, X, y_transformed, cv=5, scoring=\"neg_mean_squared_error\")\n",
        "print(\"Cross-Validation RMSE for XGBoost:\", np.sqrt(-scores.mean()))\n",
        "\n",
        "# Feature importance from XGBoost\n",
        "feature_importance = pd.Series(xgb.feature_importances_, index=[f\"Feature_{i}\" for i in range(X.shape[1])])\n",
        "top_features = feature_importance.nlargest(10)\n",
        "print(\"Top 10 Features by Importance:\\n\", top_features)\n",
        "\n",
        "# Visualize feature importance\n",
        "plt.figure(figsize=(10, 6))\n",
        "top_features.plot(kind='bar')\n",
        "plt.title(\"Top 10 Feature Importances from XGBoost\")\n",
        "plt.xlabel(\"Feature\")\n",
        "plt.ylabel(\"Importance\")\n",
        "plt.grid(True)\n",
        "plt.show()"
      ]
    },
    {
      "cell_type": "code",
      "execution_count": null,
      "metadata": {
        "id": "_uXuOE1o48PV"
      },
      "outputs": [],
      "source": [
        "# Step 13: Process Test Set\n",
        "test_vectors = []\n",
        "test_ids = []\n",
        "\n",
        "for filename in tqdm(os.listdir(test_dir)):\n",
        "    if filename.endswith(\".tsv\"):\n",
        "        participant_id = filename.split(\"_\")[0].replace(\"sub-\", \"\")\n",
        "        file_path = os.path.join(test_dir, filename)\n",
        "        vector = extract_upper_triangle(file_path)\n",
        "        test_vectors.append(vector)\n",
        "        test_ids.append(participant_id)\n",
        "\n",
        "X_test_raw = pd.DataFrame(test_vectors)\n",
        "X_test_raw[\"participant_id\"] = test_ids\n",
        "\n",
        "test_metadata = pd.read_csv(test_metadata_path)\n",
        "X_test_raw[\"participant_id\"] = X_test_raw[\"participant_id\"].str.upper().str.strip()\n",
        "test_metadata[\"participant_id\"] = test_metadata[\"participant_id\"].str.upper().str.strip()\n",
        "test_df = pd.merge(X_test_raw, test_metadata, on=\"participant_id\")"
      ]
    },
    {
      "cell_type": "code",
      "execution_count": null,
      "metadata": {
        "colab": {
          "base_uri": "https://localhost:8080/",
          "height": 438
        },
        "id": "oJIOP2Dn5EtB",
        "outputId": "66acc54e-6160-4bf9-949a-7da958eabd72"
      },
      "outputs": [
        {
          "name": "stdout",
          "output_type": "stream",
          "text": [
            "NaNs in test_brain: 0\n"
          ]
        },
        {
          "name": "stderr",
          "output_type": "stream",
          "text": [
            "/usr/local/lib/python3.11/dist-packages/sklearn/utils/validation.py:2739: UserWarning: X does not have valid feature names, but StandardScaler was fitted with feature names\n",
            "  warnings.warn(\n"
          ]
        },
        {
          "ename": "ValueError",
          "evalue": "X has 19900 features, but StandardScaler is expecting 100 features as input.",
          "output_type": "error",
          "traceback": [
            "\u001b[0;31m---------------------------------------------------------------------------\u001b[0m",
            "\u001b[0;31mValueError\u001b[0m                                Traceback (most recent call last)",
            "\u001b[0;32m<ipython-input-15-17d99784581e>\u001b[0m in \u001b[0;36m<cell line: 0>\u001b[0;34m()\u001b[0m\n\u001b[1;32m      6\u001b[0m \u001b[0;34m\u001b[0m\u001b[0m\n\u001b[1;32m      7\u001b[0m \u001b[0;31m# Apply the same transformations as training (scaler -> imputer -> PCA)\u001b[0m\u001b[0;34m\u001b[0m\u001b[0;34m\u001b[0m\u001b[0m\n\u001b[0;32m----> 8\u001b[0;31m \u001b[0mtest_brain_scaled\u001b[0m \u001b[0;34m=\u001b[0m \u001b[0mscaler\u001b[0m\u001b[0;34m.\u001b[0m\u001b[0mtransform\u001b[0m\u001b[0;34m(\u001b[0m\u001b[0mtest_brain\u001b[0m\u001b[0;34m)\u001b[0m\u001b[0;34m\u001b[0m\u001b[0;34m\u001b[0m\u001b[0m\n\u001b[0m\u001b[1;32m      9\u001b[0m \u001b[0mtest_brain_imputed\u001b[0m \u001b[0;34m=\u001b[0m \u001b[0mimputer\u001b[0m\u001b[0;34m.\u001b[0m\u001b[0mtransform\u001b[0m\u001b[0;34m(\u001b[0m\u001b[0mtest_brain_scaled\u001b[0m\u001b[0;34m)\u001b[0m\u001b[0;34m\u001b[0m\u001b[0;34m\u001b[0m\u001b[0m\n\u001b[1;32m     10\u001b[0m \u001b[0mtest_brain_pca\u001b[0m \u001b[0;34m=\u001b[0m \u001b[0mpca\u001b[0m\u001b[0;34m.\u001b[0m\u001b[0mtransform\u001b[0m\u001b[0;34m(\u001b[0m\u001b[0mtest_brain_imputed\u001b[0m\u001b[0;34m)\u001b[0m\u001b[0;34m\u001b[0m\u001b[0;34m\u001b[0m\u001b[0m\n",
            "\u001b[0;32m/usr/local/lib/python3.11/dist-packages/sklearn/utils/_set_output.py\u001b[0m in \u001b[0;36mwrapped\u001b[0;34m(self, X, *args, **kwargs)\u001b[0m\n\u001b[1;32m    317\u001b[0m     \u001b[0;34m@\u001b[0m\u001b[0mwraps\u001b[0m\u001b[0;34m(\u001b[0m\u001b[0mf\u001b[0m\u001b[0;34m)\u001b[0m\u001b[0;34m\u001b[0m\u001b[0;34m\u001b[0m\u001b[0m\n\u001b[1;32m    318\u001b[0m     \u001b[0;32mdef\u001b[0m \u001b[0mwrapped\u001b[0m\u001b[0;34m(\u001b[0m\u001b[0mself\u001b[0m\u001b[0;34m,\u001b[0m \u001b[0mX\u001b[0m\u001b[0;34m,\u001b[0m \u001b[0;34m*\u001b[0m\u001b[0margs\u001b[0m\u001b[0;34m,\u001b[0m \u001b[0;34m**\u001b[0m\u001b[0mkwargs\u001b[0m\u001b[0;34m)\u001b[0m\u001b[0;34m:\u001b[0m\u001b[0;34m\u001b[0m\u001b[0;34m\u001b[0m\u001b[0m\n\u001b[0;32m--> 319\u001b[0;31m         \u001b[0mdata_to_wrap\u001b[0m \u001b[0;34m=\u001b[0m \u001b[0mf\u001b[0m\u001b[0;34m(\u001b[0m\u001b[0mself\u001b[0m\u001b[0;34m,\u001b[0m \u001b[0mX\u001b[0m\u001b[0;34m,\u001b[0m \u001b[0;34m*\u001b[0m\u001b[0margs\u001b[0m\u001b[0;34m,\u001b[0m \u001b[0;34m**\u001b[0m\u001b[0mkwargs\u001b[0m\u001b[0;34m)\u001b[0m\u001b[0;34m\u001b[0m\u001b[0;34m\u001b[0m\u001b[0m\n\u001b[0m\u001b[1;32m    320\u001b[0m         \u001b[0;32mif\u001b[0m \u001b[0misinstance\u001b[0m\u001b[0;34m(\u001b[0m\u001b[0mdata_to_wrap\u001b[0m\u001b[0;34m,\u001b[0m \u001b[0mtuple\u001b[0m\u001b[0;34m)\u001b[0m\u001b[0;34m:\u001b[0m\u001b[0;34m\u001b[0m\u001b[0;34m\u001b[0m\u001b[0m\n\u001b[1;32m    321\u001b[0m             \u001b[0;31m# only wrap the first output for cross decomposition\u001b[0m\u001b[0;34m\u001b[0m\u001b[0;34m\u001b[0m\u001b[0m\n",
            "\u001b[0;32m/usr/local/lib/python3.11/dist-packages/sklearn/preprocessing/_data.py\u001b[0m in \u001b[0;36mtransform\u001b[0;34m(self, X, copy)\u001b[0m\n\u001b[1;32m   1060\u001b[0m \u001b[0;34m\u001b[0m\u001b[0m\n\u001b[1;32m   1061\u001b[0m         \u001b[0mcopy\u001b[0m \u001b[0;34m=\u001b[0m \u001b[0mcopy\u001b[0m \u001b[0;32mif\u001b[0m \u001b[0mcopy\u001b[0m \u001b[0;32mis\u001b[0m \u001b[0;32mnot\u001b[0m \u001b[0;32mNone\u001b[0m \u001b[0;32melse\u001b[0m \u001b[0mself\u001b[0m\u001b[0;34m.\u001b[0m\u001b[0mcopy\u001b[0m\u001b[0;34m\u001b[0m\u001b[0;34m\u001b[0m\u001b[0m\n\u001b[0;32m-> 1062\u001b[0;31m         X = validate_data(\n\u001b[0m\u001b[1;32m   1063\u001b[0m             \u001b[0mself\u001b[0m\u001b[0;34m,\u001b[0m\u001b[0;34m\u001b[0m\u001b[0;34m\u001b[0m\u001b[0m\n\u001b[1;32m   1064\u001b[0m             \u001b[0mX\u001b[0m\u001b[0;34m,\u001b[0m\u001b[0;34m\u001b[0m\u001b[0;34m\u001b[0m\u001b[0m\n",
            "\u001b[0;32m/usr/local/lib/python3.11/dist-packages/sklearn/utils/validation.py\u001b[0m in \u001b[0;36mvalidate_data\u001b[0;34m(_estimator, X, y, reset, validate_separately, skip_check_array, **check_params)\u001b[0m\n\u001b[1;32m   2963\u001b[0m \u001b[0;34m\u001b[0m\u001b[0m\n\u001b[1;32m   2964\u001b[0m     \u001b[0;32mif\u001b[0m \u001b[0;32mnot\u001b[0m \u001b[0mno_val_X\u001b[0m \u001b[0;32mand\u001b[0m \u001b[0mcheck_params\u001b[0m\u001b[0;34m.\u001b[0m\u001b[0mget\u001b[0m\u001b[0;34m(\u001b[0m\u001b[0;34m\"ensure_2d\"\u001b[0m\u001b[0;34m,\u001b[0m \u001b[0;32mTrue\u001b[0m\u001b[0;34m)\u001b[0m\u001b[0;34m:\u001b[0m\u001b[0;34m\u001b[0m\u001b[0;34m\u001b[0m\u001b[0m\n\u001b[0;32m-> 2965\u001b[0;31m         \u001b[0m_check_n_features\u001b[0m\u001b[0;34m(\u001b[0m\u001b[0m_estimator\u001b[0m\u001b[0;34m,\u001b[0m \u001b[0mX\u001b[0m\u001b[0;34m,\u001b[0m \u001b[0mreset\u001b[0m\u001b[0;34m=\u001b[0m\u001b[0mreset\u001b[0m\u001b[0;34m)\u001b[0m\u001b[0;34m\u001b[0m\u001b[0;34m\u001b[0m\u001b[0m\n\u001b[0m\u001b[1;32m   2966\u001b[0m \u001b[0;34m\u001b[0m\u001b[0m\n\u001b[1;32m   2967\u001b[0m     \u001b[0;32mreturn\u001b[0m \u001b[0mout\u001b[0m\u001b[0;34m\u001b[0m\u001b[0;34m\u001b[0m\u001b[0m\n",
            "\u001b[0;32m/usr/local/lib/python3.11/dist-packages/sklearn/utils/validation.py\u001b[0m in \u001b[0;36m_check_n_features\u001b[0;34m(estimator, X, reset)\u001b[0m\n\u001b[1;32m   2827\u001b[0m \u001b[0;34m\u001b[0m\u001b[0m\n\u001b[1;32m   2828\u001b[0m     \u001b[0;32mif\u001b[0m \u001b[0mn_features\u001b[0m \u001b[0;34m!=\u001b[0m \u001b[0mestimator\u001b[0m\u001b[0;34m.\u001b[0m\u001b[0mn_features_in_\u001b[0m\u001b[0;34m:\u001b[0m\u001b[0;34m\u001b[0m\u001b[0;34m\u001b[0m\u001b[0m\n\u001b[0;32m-> 2829\u001b[0;31m         raise ValueError(\n\u001b[0m\u001b[1;32m   2830\u001b[0m             \u001b[0;34mf\"X has {n_features} features, but {estimator.__class__.__name__} \"\u001b[0m\u001b[0;34m\u001b[0m\u001b[0;34m\u001b[0m\u001b[0m\n\u001b[1;32m   2831\u001b[0m             \u001b[0;34mf\"is expecting {estimator.n_features_in_} features as input.\"\u001b[0m\u001b[0;34m\u001b[0m\u001b[0;34m\u001b[0m\u001b[0m\n",
            "\u001b[0;31mValueError\u001b[0m: X has 19900 features, but StandardScaler is expecting 100 features as input."
          ]
        }
      ],
      "source": [
        "# Step 14: Predict on Test Set with Bias Correction\n",
        "# Use the same brain_cols as training for consistency (original features before PCA)\n",
        "test_brain = test_df.reindex(columns=selected_cols, fill_value=0)\n",
        "\n",
        "print(\"NaNs in test_brain:\", test_brain.isna().sum().sum())\n",
        "\n",
        "# Apply the same transformations as training (scaler -> imputer -> PCA -> scaler_post_pca -> imputer_post_pca)\n",
        "test_brain_scaled = scaler_pre_pca.transform(test_brain)\n",
        "test_brain_imputed = imputer_pre_pca.transform(test_brain_scaled)\n",
        "test_brain_pca = pd.DataFrame(pca.transform(test_brain_imputed), columns=pca_cols)  # Retain feature names\n",
        "test_brain_pca_scaled = scaler_post_pca.transform(test_brain_pca)\n",
        "test_brain_pca_imputed = imputer_post_pca.transform(test_brain_pca_scaled)\n",
        "\n",
        "print(\"NaNs in test_brain_pca_imputed:\", np.isnan(test_brain_pca_imputed).sum())\n",
        "\n",
        "for col in meta_cols:\n",
        "    if col not in test_df.columns:\n",
        "        test_df[col] = 0\n",
        "\n",
        "test_meta_encoded = pd.get_dummies(test_df[meta_cols])\n",
        "test_meta_encoded = test_meta_encoded.reindex(columns=meta_encoded.columns, fill_value=0)\n",
        "\n",
        "print(\"NaNs in test_meta_encoded:\", test_meta_encoded.isna().sum().sum())\n",
        "\n",
        "X_test_final = np.concatenate([test_brain_pca_imputed, test_meta_encoded.values], axis=1)\n",
        "\n",
        "print(\"NaNs in X_test_final before final processing:\", np.isnan(X_test_final).sum())\n",
        "\n",
        "# Cross-validate ensemble weights\n",
        "from sklearn.metrics import mean_squared_error\n",
        "\n",
        "weights = np.linspace(0, 1, 21)  # Test weights from 0 to 1 for Ridge\n",
        "best_weight = 0.8  # Default to previous best\n",
        "best_mse = float('inf')\n",
        "ridge_predictions_train = ridge.predict(X)\n",
        "xgb_predictions_train = xgb.predict(X)\n",
        "\n",
        "for w in weights:\n",
        "    ensemble_pred = w * ridge_predictions_train + (1 - w) * xgb_predictions_train\n",
        "    mse = mean_squared_error(y, ensemble_pred)\n",
        "    if mse < best_mse:\n",
        "        best_mse = mse\n",
        "        best_weight = w\n",
        "\n",
        "print(f\"Optimal Ridge weight: {best_weight}, XGB weight: {1 - best_weight}, Cross-validated MSE: {best_mse}\")\n",
        "\n",
        "# Compute ensemble predictions on training data\n",
        "ensemble_predictions_train = best_weight * ridge_predictions_train + (1 - best_weight) * xgb_predictions_train\n",
        "\n",
        "# Make ensemble predictions on test data with optimal weights\n",
        "ridge_predictions = ridge.predict(X_test_final)\n",
        "xgb_predictions = xgb.predict(X_test_final)\n",
        "raw_predictions = best_weight * ridge_predictions + (1 - best_weight) * xgb_predictions\n",
        "\n",
        "# Compute metrics for each model and the ensemble on training data\n",
        "models = {'Ridge': ridge_predictions_train, 'XGBoost': xgb_predictions_train, 'Ensemble': ensemble_predictions_train}\n",
        "metrics = {'MAE': [], 'RMSE': [], 'R²': []}\n",
        "model_names = list(models.keys())\n",
        "\n",
        "for name, preds in models.items():\n",
        "    mae = mean_absolute_error(y, preds)\n",
        "    rmse = np.sqrt(mean_squared_error(y, preds))\n",
        "    r2 = r2_score(y, preds)\n",
        "    metrics['MAE'].append(mae)\n",
        "    metrics['RMSE'].append(rmse)\n",
        "    metrics['R²'].append(r2)\n",
        "\n",
        "# Display metrics\n",
        "metrics_df = pd.DataFrame(metrics, index=model_names)\n",
        "print(\"\\nModel Performance Metrics on Training Data:\")\n",
        "print(metrics_df)\n",
        "\n",
        "# Visualize metrics\n",
        "plt.figure(figsize=(12, 6))\n",
        "plt.subplot(1, 3, 1)\n",
        "plt.bar(model_names, metrics['MAE'])\n",
        "plt.title(\"Mean Absolute Error (MAE)\")\n",
        "plt.ylabel(\"MAE\")\n",
        "plt.grid(True)\n",
        "\n",
        "plt.subplot(1, 3, 2)\n",
        "plt.bar(model_names, metrics['RMSE'])\n",
        "plt.title(\"Root Mean Squared Error (RMSE)\")\n",
        "plt.ylabel(\"RMSE\")\n",
        "plt.grid(True)\n",
        "\n",
        "plt.subplot(1, 3, 3)\n",
        "plt.bar(model_names, metrics['R²'])\n",
        "plt.title(\"R-squared (R²)\")\n",
        "plt.ylabel(\"R²\")\n",
        "plt.grid(True)\n",
        "\n",
        "plt.tight_layout()\n",
        "plt.show()\n",
        "\n",
        "# Prediction error analysis on training data\n",
        "train_predictions = best_weight * ridge.predict(X) + (1 - best_weight) * xgb.predict(X)\n",
        "plt.figure(figsize=(10, 6))\n",
        "plt.scatter(y, train_predictions, alpha=0.5)\n",
        "plt.plot([y.min(), y.max()], [y.min(), y.max()], 'r--', lw=2)\n",
        "plt.title(\"Predicted vs. Actual Ages (Training Data)\")\n",
        "plt.xlabel(\"Actual Age\")\n",
        "plt.ylabel(\"Predicted Age\")\n",
        "plt.grid(True)\n",
        "plt.show()\n",
        "\n",
        "# Dynamic bias correction based on inverse frequency of ages\n",
        "age_counts = df_resampled[\"age\"].value_counts().sort_index()\n",
        "age_range = np.arange(5, 22)  # Full range 5-21\n",
        "# Compute inverse frequency weights (higher weight for rarer ages)\n",
        "inverse_freq = 1 / (age_counts.reindex(age_range, fill_value=1).values)  # Fill with 1 to avoid division by zero\n",
        "inverse_freq_weights = inverse_freq / inverse_freq.sum()\n",
        "for i in range(len(raw_predictions)):\n",
        "    if raw_predictions[i] < 21:  # Apply to all predictions below 21\n",
        "        adjustment = np.random.choice(age_range, p=inverse_freq_weights)\n",
        "        raw_predictions[i] = 0.5 * raw_predictions[i] + 0.5 * adjustment  # Stronger adjustment\n",
        "\n",
        "predictions = np.clip(raw_predictions, 5, 25)\n",
        "\n",
        "# Visualize raw vs. adjusted predictions\n",
        "plt.figure(figsize=(12, 6))\n",
        "plt.subplot(1, 2, 1)\n",
        "sns.histplot(raw_predictions, bins=range(5, 26), discrete=True)\n",
        "plt.title(\"Raw Predictions (Before Bias Correction)\")\n",
        "plt.xlabel(\"Age\")\n",
        "plt.ylabel(\"Frequency\")\n",
        "plt.grid(True)\n",
        "\n",
        "plt.subplot(1, 2, 2)\n",
        "sns.histplot(predictions, bins=range(5, 26), discrete=True)\n",
        "plt.title(\"Adjusted Predictions (After Bias Correction)\")\n",
        "plt.xlabel(\"Age\")\n",
        "plt.ylabel(\"Frequency\")\n",
        "plt.grid(True)\n",
        "\n",
        "plt.tight_layout()\n",
        "plt.show()\n",
        "\n",
        "print(\"Raw Predictions:\", raw_predictions[:10])\n",
        "print(\"Predicted Ages:\", predictions[:10])\n",
        "print(\"Predicted age distribution:\\n\", pd.Series(predictions).value_counts(bins=range(5, 26, 1)).sort_index())"
      ]
    },
    {
      "cell_type": "code",
      "execution_count": null,
      "metadata": {
        "id": "yzDwWPro5M4a"
      },
      "outputs": [],
      "source": [
        "# Step 15: Export Submission\n",
        "submission = pd.DataFrame({\n",
        "    \"participant_id\": test_ids,\n",
        "    \"age\": predictions\n",
        "})\n",
        "submission_path = \"/content/drive/MyDrive/submission_without_synthetic.csv\"\n",
        "submission.to_csv(submission_path, index=False)\n",
        "print(f\"✅ Submission file saved to: {submission_path}\")"
      ]
    },
    {
      "cell_type": "code",
      "execution_count": null,
      "metadata": {
        "id": "TdRbUuco5PyO"
      },
      "outputs": [],
      "source": [
        "# Step 16: Visualize Predictions\n",
        "sns.histplot(predictions, bins=20, kde=True)\n",
        "plt.title(\"Predicted Age Distribution\")\n",
        "plt.xlabel(\"Age\")\n",
        "plt.ylabel(\"Frequency\")\n",
        "plt.grid(True)\n",
        "plt.show()"
      ]
    }
  ],
  "metadata": {
    "colab": {
      "machine_shape": "hm",
      "provenance": []
    },
    "kernelspec": {
      "display_name": "Python 3",
      "name": "python3"
    },
    "language_info": {
      "name": "python"
    }
  },
  "nbformat": 4,
  "nbformat_minor": 0
}